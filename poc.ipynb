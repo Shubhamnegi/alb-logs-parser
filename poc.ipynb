{
 "cells": [
  {
   "cell_type": "markdown",
   "metadata": {},
   "source": [
    "# POC to analyze ALB logs and show case\n",
    "    - Anomaly Detection for status code, number of request\n",
    "    - To Train a model to detect threat using logs properties\n",
    "    - To Check if the model is able to answer threat label based on properties  "
   ]
  },
  {
   "cell_type": "markdown",
   "metadata": {},
   "source": [
    "Query to get status from alb for 4 days\n",
    "\n",
    "```\n",
    "SELECT \n",
    "extract(day FROM parse_datetime(time,'yyyy-MM-dd''T''HH:mm:ss.SSSSSS''Z')) as day,\n",
    "extract(HOUR FROM parse_datetime(time,'yyyy-MM-dd''T''HH:mm:ss.SSSSSS''Z')) as hour,\n",
    "sum(case when \"elb_status_code\"  between 200 and 299 then 1 else 0 end) as \"2xx\",\n",
    "sum(case when \"elb_status_code\"  between 300 and 399 then 1 else 0 end) as \"3xx\",\n",
    "sum(case when \"elb_status_code\"  between 400 and 499 then 1 else 0 end) as \"4xx\",\n",
    "sum(case when \"elb_status_code\"  > 499 then 1 else 0 end) as \"5xx\"\n",
    "FROM \"alb_db\".\"alb_logs\"\n",
    "where \"day\" in ('2023/07/09','2023/07/08','2023/07/07','2023/07/06') \n",
    "group by extract(day FROM parse_datetime(time,'yyyy-MM-dd''T''HH:mm:ss.SSSSSS''Z')),extract(HOUR FROM parse_datetime(time,'yyyy-MM-dd''T''HH:mm:ss.SSSSSS''Z'))\n",
    "order by 1 ASC,2 ASC\n",
    "```"
   ]
  },
  {
   "cell_type": "code",
   "execution_count": 1,
   "metadata": {},
   "outputs": [
    {
     "data": {
      "text/html": [
       "<div>\n",
       "<style scoped>\n",
       "    .dataframe tbody tr th:only-of-type {\n",
       "        vertical-align: middle;\n",
       "    }\n",
       "\n",
       "    .dataframe tbody tr th {\n",
       "        vertical-align: top;\n",
       "    }\n",
       "\n",
       "    .dataframe thead th {\n",
       "        text-align: right;\n",
       "    }\n",
       "</style>\n",
       "<table border=\"1\" class=\"dataframe\">\n",
       "  <thead>\n",
       "    <tr style=\"text-align: right;\">\n",
       "      <th></th>\n",
       "      <th>2xx</th>\n",
       "      <th>3xx</th>\n",
       "      <th>4xx</th>\n",
       "      <th>5xx</th>\n",
       "    </tr>\n",
       "  </thead>\n",
       "  <tbody>\n",
       "    <tr>\n",
       "      <th>count</th>\n",
       "      <td>97.000000</td>\n",
       "      <td>97.000000</td>\n",
       "      <td>97.000000</td>\n",
       "      <td>97.000000</td>\n",
       "    </tr>\n",
       "    <tr>\n",
       "      <th>mean</th>\n",
       "      <td>112383.247423</td>\n",
       "      <td>125860.000000</td>\n",
       "      <td>2650.721649</td>\n",
       "      <td>3571.144330</td>\n",
       "    </tr>\n",
       "    <tr>\n",
       "      <th>std</th>\n",
       "      <td>61987.912810</td>\n",
       "      <td>83804.691078</td>\n",
       "      <td>1832.295667</td>\n",
       "      <td>1641.074807</td>\n",
       "    </tr>\n",
       "    <tr>\n",
       "      <th>min</th>\n",
       "      <td>1811.000000</td>\n",
       "      <td>1324.000000</td>\n",
       "      <td>10.000000</td>\n",
       "      <td>72.000000</td>\n",
       "    </tr>\n",
       "    <tr>\n",
       "      <th>25%</th>\n",
       "      <td>50387.000000</td>\n",
       "      <td>34177.000000</td>\n",
       "      <td>791.000000</td>\n",
       "      <td>1899.000000</td>\n",
       "    </tr>\n",
       "    <tr>\n",
       "      <th>50%</th>\n",
       "      <td>122186.000000</td>\n",
       "      <td>138460.000000</td>\n",
       "      <td>2702.000000</td>\n",
       "      <td>4135.000000</td>\n",
       "    </tr>\n",
       "    <tr>\n",
       "      <th>75%</th>\n",
       "      <td>166766.000000</td>\n",
       "      <td>210746.000000</td>\n",
       "      <td>3960.000000</td>\n",
       "      <td>5029.000000</td>\n",
       "    </tr>\n",
       "    <tr>\n",
       "      <th>max</th>\n",
       "      <td>214009.000000</td>\n",
       "      <td>217261.000000</td>\n",
       "      <td>7225.000000</td>\n",
       "      <td>5967.000000</td>\n",
       "    </tr>\n",
       "  </tbody>\n",
       "</table>\n",
       "</div>"
      ],
      "text/plain": [
       "                 2xx            3xx          4xx          5xx\n",
       "count      97.000000      97.000000    97.000000    97.000000\n",
       "mean   112383.247423  125860.000000  2650.721649  3571.144330\n",
       "std     61987.912810   83804.691078  1832.295667  1641.074807\n",
       "min      1811.000000    1324.000000    10.000000    72.000000\n",
       "25%     50387.000000   34177.000000   791.000000  1899.000000\n",
       "50%    122186.000000  138460.000000  2702.000000  4135.000000\n",
       "75%    166766.000000  210746.000000  3960.000000  5029.000000\n",
       "max    214009.000000  217261.000000  7225.000000  5967.000000"
      ]
     },
     "execution_count": 1,
     "metadata": {},
     "output_type": "execute_result"
    }
   ],
   "source": [
    "# To import csv with status code\n",
    "import pandas as pd\n",
    "status_df = pd.read_csv('aggregates/status_code_aggregates.csv')\n",
    "status_df['day'] = status_df['day'].astype(str)\n",
    "status_df['hour'] = status_df['hour'].astype(str)\n",
    "status_df.describe()"
   ]
  },
  {
   "cell_type": "code",
   "execution_count": 2,
   "metadata": {},
   "outputs": [
    {
     "data": {
      "text/html": [
       "<div>\n",
       "<style scoped>\n",
       "    .dataframe tbody tr th:only-of-type {\n",
       "        vertical-align: middle;\n",
       "    }\n",
       "\n",
       "    .dataframe tbody tr th {\n",
       "        vertical-align: top;\n",
       "    }\n",
       "\n",
       "    .dataframe thead th {\n",
       "        text-align: right;\n",
       "    }\n",
       "</style>\n",
       "<table border=\"1\" class=\"dataframe\">\n",
       "  <thead>\n",
       "    <tr style=\"text-align: right;\">\n",
       "      <th></th>\n",
       "      <th>day</th>\n",
       "      <th>hour</th>\n",
       "      <th>2xx</th>\n",
       "      <th>3xx</th>\n",
       "      <th>4xx</th>\n",
       "      <th>5xx</th>\n",
       "      <th>ds</th>\n",
       "    </tr>\n",
       "  </thead>\n",
       "  <tbody>\n",
       "    <tr>\n",
       "      <th>0</th>\n",
       "      <td>5</td>\n",
       "      <td>23</td>\n",
       "      <td>1811</td>\n",
       "      <td>1324</td>\n",
       "      <td>10</td>\n",
       "      <td>72</td>\n",
       "      <td>2023-07-05 23:00:00</td>\n",
       "    </tr>\n",
       "    <tr>\n",
       "      <th>1</th>\n",
       "      <td>6</td>\n",
       "      <td>0</td>\n",
       "      <td>24539</td>\n",
       "      <td>15619</td>\n",
       "      <td>178</td>\n",
       "      <td>1150</td>\n",
       "      <td>2023-07-06 00:00:00</td>\n",
       "    </tr>\n",
       "    <tr>\n",
       "      <th>2</th>\n",
       "      <td>6</td>\n",
       "      <td>1</td>\n",
       "      <td>30420</td>\n",
       "      <td>17493</td>\n",
       "      <td>199</td>\n",
       "      <td>1340</td>\n",
       "      <td>2023-07-06 01:00:00</td>\n",
       "    </tr>\n",
       "    <tr>\n",
       "      <th>3</th>\n",
       "      <td>6</td>\n",
       "      <td>2</td>\n",
       "      <td>40499</td>\n",
       "      <td>19013</td>\n",
       "      <td>201</td>\n",
       "      <td>1808</td>\n",
       "      <td>2023-07-06 02:00:00</td>\n",
       "    </tr>\n",
       "    <tr>\n",
       "      <th>4</th>\n",
       "      <td>6</td>\n",
       "      <td>3</td>\n",
       "      <td>56962</td>\n",
       "      <td>35519</td>\n",
       "      <td>446</td>\n",
       "      <td>2118</td>\n",
       "      <td>2023-07-06 03:00:00</td>\n",
       "    </tr>\n",
       "  </tbody>\n",
       "</table>\n",
       "</div>"
      ],
      "text/plain": [
       "  day hour    2xx    3xx  4xx   5xx                  ds\n",
       "0   5   23   1811   1324   10    72 2023-07-05 23:00:00\n",
       "1   6    0  24539  15619  178  1150 2023-07-06 00:00:00\n",
       "2   6    1  30420  17493  199  1340 2023-07-06 01:00:00\n",
       "3   6    2  40499  19013  201  1808 2023-07-06 02:00:00\n",
       "4   6    3  56962  35519  446  2118 2023-07-06 03:00:00"
      ]
     },
     "execution_count": 2,
     "metadata": {},
     "output_type": "execute_result"
    }
   ],
   "source": [
    "# Describe status df\n",
    "from pandas import to_datetime\n",
    "def add_padding(val):\n",
    "    if int(val) < 10:\n",
    "        return f\"0{str(val)}\"\n",
    "    return str(val)\n",
    "\n",
    "\n",
    "status_df['ds'] = \"2023-07-\"+status_df['day'].apply(add_padding)+\" \"+status_df['hour'].apply(add_padding)+\":00:00\"\n",
    "status_df['ds'] = to_datetime(status_df['ds'])\n",
    "status_df.head()\n"
   ]
  },
  {
   "cell_type": "code",
   "execution_count": 3,
   "metadata": {},
   "outputs": [
    {
     "data": {
      "image/png": "[encoded data removed]",
      "text/plain": [
       "<Figure size 432x288 with 1 Axes>"
      ]
     },
     "metadata": {
      "needs_background": "light"
     },
     "output_type": "display_data"
    }
   ],
   "source": [
    "from matplotlib import pyplot\n",
    "status_df[[\"2xx\",\"3xx\",\"4xx\",\"5xx\"]].plot()\n",
    "pyplot.show()"
   ]
  },
  {
   "cell_type": "code",
   "execution_count": 4,
   "metadata": {},
   "outputs": [
    {
     "name": "stderr",
     "output_type": "stream",
     "text": [
      "/Users/shubhamnegi/Documents/python_workspace/alb-to-influx/venv/lib/python3.6/site-packages/tqdm/auto.py:22: TqdmWarning: IProgress not found. Please update jupyter and ipywidgets. See https://ipywidgets.readthedocs.io/en/stable/user_install.html\n",
      "  from .autonotebook import tqdm as notebook_tqdm\n",
      "Importing plotly failed. Interactive plots will not work.\n"
     ]
    },
    {
     "name": "stdout",
     "output_type": "stream",
     "text": [
      "Prophet 0.7.1\n"
     ]
    }
   ],
   "source": [
    "# check prophet version\n",
    "import fbprophet\n",
    "# print version number\n",
    "print('Prophet %s' % fbprophet.__version__)\n"
   ]
  },
  {
   "cell_type": "code",
   "execution_count": 5,
   "metadata": {},
   "outputs": [
    {
     "name": "stderr",
     "output_type": "stream",
     "text": [
      "INFO:fbprophet:Disabling yearly seasonality. Run prophet with yearly_seasonality=True to override this.\n",
      "INFO:fbprophet:Disabling weekly seasonality. Run prophet with weekly_seasonality=True to override this.\n"
     ]
    },
    {
     "data": {
      "text/plain": [
       "<fbprophet.forecaster.Prophet at 0x7f8c404b44e0>"
      ]
     },
     "execution_count": 5,
     "metadata": {},
     "output_type": "execute_result"
    }
   ],
   "source": [
    "# train model using actual data for 200\n",
    "from fbprophet import Prophet\n",
    "prop_df_2xx  = pd.DataFrame(columns=['ds','y'])\n",
    "prop_df_2xx['ds']  = status_df['ds']\n",
    "prop_df_2xx['y']  = status_df['2xx']\n",
    "prop_df_2xx.shape\n",
    "model = Prophet()\n",
    "model.fit(prop_df_2xx)"
   ]
  },
  {
   "cell_type": "code",
   "execution_count": 6,
   "metadata": {},
   "outputs": [
    {
     "data": {
      "image/png": "[encoded data removed]",
      "text/plain": [
       "<Figure size 720x432 with 1 Axes>"
      ]
     },
     "metadata": {},
     "output_type": "display_data"
    }
   ],
   "source": [
    "# now lets show prediction for 10th july\n",
    "future_2xx = list()\n",
    "for i in range(0, 24):\n",
    "\tdate = f\"2023-07-10 {add_padding(i)}:00:00\"\n",
    "\tfuture_2xx.append([date])\n",
    "\n",
    "future_2xx = pd.DataFrame(future_2xx)\n",
    "future_2xx.head()\n",
    "future_2xx.columns = ['ds']\n",
    "future_2xx['ds']= to_datetime(future_2xx['ds'])\n",
    "future_2xx.head()\n",
    "forecast = model.predict(future_2xx)\n",
    "model.plot(forecast)\n",
    "pyplot.show()\n",
    "\n"
   ]
  },
  {
   "cell_type": "markdown",
   "metadata": {},
   "source": [
    "## In the above diagram we saw how we can predict data for a future data for 2xx status, Now let check if the prediction match with real data\n",
    "To show case this we will \n",
    "- Remove data for 2023-07-09 from the data frame\n",
    "- Train data based on 2023-07-06, 2023-07-07, 2023-07-08\n",
    "- Plot real and predicted data"
   ]
  },
  {
   "cell_type": "code",
   "execution_count": 7,
   "metadata": {},
   "outputs": [
    {
     "data": {
      "text/html": [
       "<div>\n",
       "<style scoped>\n",
       "    .dataframe tbody tr th:only-of-type {\n",
       "        vertical-align: middle;\n",
       "    }\n",
       "\n",
       "    .dataframe tbody tr th {\n",
       "        vertical-align: top;\n",
       "    }\n",
       "\n",
       "    .dataframe thead th {\n",
       "        text-align: right;\n",
       "    }\n",
       "</style>\n",
       "<table border=\"1\" class=\"dataframe\">\n",
       "  <thead>\n",
       "    <tr style=\"text-align: right;\">\n",
       "      <th></th>\n",
       "      <th>ds</th>\n",
       "      <th>y</th>\n",
       "    </tr>\n",
       "  </thead>\n",
       "  <tbody>\n",
       "    <tr>\n",
       "      <th>68</th>\n",
       "      <td>2023-07-08 19:00:00</td>\n",
       "      <td>88807</td>\n",
       "    </tr>\n",
       "    <tr>\n",
       "      <th>69</th>\n",
       "      <td>2023-07-08 20:00:00</td>\n",
       "      <td>65577</td>\n",
       "    </tr>\n",
       "    <tr>\n",
       "      <th>70</th>\n",
       "      <td>2023-07-08 21:00:00</td>\n",
       "      <td>47951</td>\n",
       "    </tr>\n",
       "    <tr>\n",
       "      <th>71</th>\n",
       "      <td>2023-07-08 22:00:00</td>\n",
       "      <td>36539</td>\n",
       "    </tr>\n",
       "    <tr>\n",
       "      <th>72</th>\n",
       "      <td>2023-07-08 23:00:00</td>\n",
       "      <td>26607</td>\n",
       "    </tr>\n",
       "  </tbody>\n",
       "</table>\n",
       "</div>"
      ],
      "text/plain": [
       "                    ds      y\n",
       "68 2023-07-08 19:00:00  88807\n",
       "69 2023-07-08 20:00:00  65577\n",
       "70 2023-07-08 21:00:00  47951\n",
       "71 2023-07-08 22:00:00  36539\n",
       "72 2023-07-08 23:00:00  26607"
      ]
     },
     "execution_count": 7,
     "metadata": {},
     "output_type": "execute_result"
    }
   ],
   "source": [
    "# Here we dont have date for 2023-07-09\n",
    "train_2xx_train = prop_df_2xx[prop_df_2xx['ds'] < pd.to_datetime(\"2023-07-09 00:00:00\")]\n",
    "train_2xx_train.tail()"
   ]
  },
  {
   "cell_type": "code",
   "execution_count": 13,
   "metadata": {},
   "outputs": [
    {
     "name": "stderr",
     "output_type": "stream",
     "text": [
      "INFO:fbprophet:Disabling yearly seasonality. Run prophet with yearly_seasonality=True to override this.\n",
      "INFO:fbprophet:Disabling weekly seasonality. Run prophet with weekly_seasonality=True to override this.\n"
     ]
    },
    {
     "name": "stdout",
     "output_type": "stream",
     "text": [
      "Mean diff = 1597.4593802225106\n"
     ]
    },
    {
     "data": {
      "image/png": "[encoded data removed]",
      "text/plain": [
       "<Figure size 432x288 with 1 Axes>"
      ]
     },
     "metadata": {
      "needs_background": "light"
     },
     "output_type": "display_data"
    }
   ],
   "source": [
    "# Let predict values for 9th\n",
    "\n",
    "future_2xx_9thJuly = list()\n",
    "for i in range(0, 24):\n",
    "\tdate = f\"2023-07-09 {add_padding(i)}:00:00\"\n",
    "\tfuture_2xx_9thJuly.append([date])\n",
    "\n",
    "future_2xx_9thJuly = pd.DataFrame(future_2xx_9thJuly)\n",
    "future_2xx_9thJuly.head()\n",
    "future_2xx_9thJuly.columns = ['ds']\n",
    "future_2xx_9thJuly['ds']= to_datetime(future_2xx_9thJuly['ds'])\n",
    "future_2xx_9thJuly.head()\n",
    "\n",
    "model = Prophet() # create new object for training\n",
    "model.fit(train_2xx_train) # train using 3 days data\n",
    "forecast = model.predict(future_2xx_9thJuly) # predict for 9th july\n",
    "y_true = prop_df_2xx[prop_df_2xx['ds'] >= pd.to_datetime(\"2023-07-09 00:00:00\") ]['y'].values\n",
    "y_pred = forecast['yhat'].values\n",
    "\n",
    "sum_of_diff = 0\n",
    "for i in range(0,23):\n",
    "\tdiff = y_true[i] - y_pred[i]\n",
    "\tsum_of_diff = sum_of_diff + diff\n",
    "\t\n",
    "print(f\"Mean diff = {sum_of_diff/24}\")\n",
    "\n",
    "pyplot.plot(y_true, label='Actual')\n",
    "pyplot.plot(y_pred, label='Predicted')\n",
    "pyplot.legend()\n",
    "pyplot.show()\n"
   ]
  }
 ],
 "metadata": {
  "kernelspec": {
   "display_name": "venv",
   "language": "python",
   "name": "python3"
  },
  "language_info": {
   "codemirror_mode": {
    "name": "ipython",
    "version": 3
   },
   "file_extension": ".py",
   "mimetype": "text/x-python",
   "name": "python",
   "nbconvert_exporter": "python",
   "pygments_lexer": "ipython3",
   "version": "3.6.8"
  },
  "orig_nbformat": 4
 },
 "nbformat": 4,
 "nbformat_minor": 2
}
